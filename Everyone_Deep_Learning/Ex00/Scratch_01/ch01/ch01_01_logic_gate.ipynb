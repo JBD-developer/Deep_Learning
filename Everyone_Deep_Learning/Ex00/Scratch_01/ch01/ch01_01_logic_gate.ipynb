{
 "cells": [
  {
   "cell_type": "code",
   "execution_count": 1,
   "metadata": {},
   "outputs": [],
   "source": [
    "import numpy as np "
   ]
  },
  {
   "cell_type": "code",
   "execution_count": null,
   "metadata": {},
   "outputs": [],
   "source": [
    "def logic_sum(w, x, b):\n",
    "    return np.sum(w*x) + b"
   ]
  },
  {
   "cell_type": "code",
   "execution_count": null,
   "metadata": {},
   "outputs": [],
   "source": [
    "def AND(x1, x2): \n",
    "    x = np.array([x1, x2])\n",
    "    w = np.array([0.5, 0.5])\n",
    "    b = -0.7 \n",
    "    \n",
    "    tmp = np.sum(w*x) + b \n",
    "    if tmp <= 0 :\n",
    "        return 0 \n",
    "    else : \n",
    "        return 1 "
   ]
  },
  {
   "cell_type": "code",
   "execution_count": null,
   "metadata": {},
   "outputs": [],
   "source": [
    "def NAND(x1, x2):\n",
    "    x = np.array([x1, x2])\n",
    "    w = np.array([0.5, 0.5])\n",
    "    b = 0.7\n",
    "    \n",
    "    tmp = np.sum(w*x) + b \n",
    "    if tmp <= 0 :\n",
    "        return 0 \n",
    "    else : \n",
    "        return 1 "
   ]
  },
  {
   "cell_type": "code",
   "execution_count": null,
   "metadata": {},
   "outputs": [],
   "source": [
    "def OR(x1, x2):\n",
    "    x = np.array([x1, x2])\n",
    "    w = np.array([0.5, 0.5])\n",
    "    b = -0.2\n",
    "    \n",
    "    tmp = np.sum(w*x) + b \n",
    "    if tmp <= 0 :\n",
    "        return 0 \n",
    "    else : \n",
    "        return 1 "
   ]
  },
  {
   "cell_type": "code",
   "execution_count": null,
   "metadata": {},
   "outputs": [],
   "source": [
    "def XOR(x1, x2):\n",
    "    x = np.array([x1, x2])\n",
    "    w = np.array([0.5, 0.5])\n",
    "    b = 0.7\n",
    "    \n",
    "    tmp = logic_sum(w, x, b) \n",
    "    if tmp <= 0 :\n",
    "        return 0 \n",
    "    else : \n",
    "        return 1 "
   ]
  },
  {
   "cell_type": "code",
   "execution_count": null,
   "metadata": {},
   "outputs": [],
   "source": [
    "if __name__ == \"__main__\":\n",
    "    for xs in [(0, 0), (1, 0), (0, 1), (1, 1)]:\n",
    "        or_y = OR(xs[0], xs[1]) \n",
    "        and_y = AND(xs[0], xs[1])\n",
    "        nand_y = NAND(xs[0], xs[1])        "
   ]
  }
 ],
 "metadata": {
  "interpreter": {
   "hash": "84aa361dc03af9f972324ef6cf6aceb4cafe779b49f49a96b4c6f61010530933"
  },
  "kernelspec": {
   "display_name": "Python 3.8.10 64-bit",
   "language": "python",
   "name": "python3"
  },
  "language_info": {
   "codemirror_mode": {
    "name": "ipython",
    "version": 3
   },
   "file_extension": ".py",
   "mimetype": "text/x-python",
   "name": "python",
   "nbconvert_exporter": "python",
   "pygments_lexer": "ipython3",
   "version": "3.8.10"
  },
  "orig_nbformat": 4
 },
 "nbformat": 4,
 "nbformat_minor": 2
}
