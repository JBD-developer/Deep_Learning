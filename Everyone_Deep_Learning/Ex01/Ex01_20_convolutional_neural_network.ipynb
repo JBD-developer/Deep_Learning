{
 "cells": [
  {
   "cell_type": "code",
   "execution_count": 7,
   "metadata": {},
   "outputs": [],
   "source": [
    "from keras.datasets import mnist\n",
    "from keras.utils import np_utils\n",
    "from keras.models import Sequential\n",
    "from keras.layers import Dense, Dropout, Flatten, Conv2D, MaxPooling2D\n",
    "from keras.callbacks import ModelCheckpoint,EarlyStopping\n"
   ]
  },
  {
   "cell_type": "code",
   "execution_count": 8,
   "metadata": {},
   "outputs": [],
   "source": [
    "import numpy as np \n",
    "import os \n",
    "import matplotlib.pyplot as plt\n",
    "import tensorflow as tf "
   ]
  },
  {
   "cell_type": "code",
   "execution_count": 9,
   "metadata": {},
   "outputs": [],
   "source": [
    "seed = 0\n",
    "np.random.seed(seed)\n",
    "tf.random.set_seed(3)"
   ]
  },
  {
   "cell_type": "code",
   "execution_count": 10,
   "metadata": {},
   "outputs": [],
   "source": [
    "(X_train, Y_train), (X_test, Y_test) = mnist.load_data()\n",
    "X_train = X_train.reshape(X_train.shape[0], 28, 28, 1).astype('float32') / 255\n",
    "X_test = X_test.reshape(X_test.shape[0], 28, 28, 1).astype('float32') / 255\n",
    "Y_train = np_utils.to_categorical(Y_train)\n",
    "Y_test = np_utils.to_categorical(Y_test)"
   ]
  },
  {
   "cell_type": "code",
   "execution_count": 11,
   "metadata": {},
   "outputs": [],
   "source": [
    "model = Sequential()\n",
    "model.add(Conv2D(32, kernel_size=(3, 3), input_shape=(28, 28, 1), activation='relu'))\n",
    "model.add(Conv2D(64, (3, 3), activation='relu'))\n",
    "model.add(MaxPooling2D(pool_size=2))\n",
    "model.add(Dropout(0.25))\n",
    "model.add(Flatten())\n",
    "model.add(Dense(128,  activation='relu'))\n",
    "model.add(Dropout(0.5))\n",
    "model.add(Dense(10, activation='softmax'))\n",
    "\n",
    "model.compile(loss='categorical_crossentropy',\n",
    "              optimizer='adam',\n",
    "              metrics=['accuracy'])"
   ]
  },
  {
   "cell_type": "code",
   "execution_count": 12,
   "metadata": {},
   "outputs": [],
   "source": [
    "MODEL_DIR = './model/'\n",
    "if not os.path.exists(MODEL_DIR):\n",
    "    os.mkdir(MODEL_DIR)"
   ]
  },
  {
   "cell_type": "code",
   "execution_count": 13,
   "metadata": {},
   "outputs": [],
   "source": [
    "modelpath=\"./model/{epoch:02d}-{val_loss:.4f}.hdf5\"\n",
    "checkpointer = ModelCheckpoint(filepath=modelpath, monitor='val_loss', verbose=1, save_best_only=True)\n",
    "early_stopping_callback = EarlyStopping(monitor='val_loss', patience=10)"
   ]
  },
  {
   "cell_type": "code",
   "execution_count": 14,
   "metadata": {},
   "outputs": [
    {
     "name": "stdout",
     "output_type": "stream",
     "text": [
      "\n",
      "Epoch 1: val_loss improved from inf to 0.05317, saving model to ./model\\01-0.0532.hdf5\n",
      "\n",
      "Epoch 2: val_loss improved from 0.05317 to 0.03926, saving model to ./model\\02-0.0393.hdf5\n",
      "\n",
      "Epoch 3: val_loss improved from 0.03926 to 0.03455, saving model to ./model\\03-0.0346.hdf5\n",
      "\n",
      "Epoch 4: val_loss improved from 0.03455 to 0.03130, saving model to ./model\\04-0.0313.hdf5\n",
      "\n",
      "Epoch 5: val_loss did not improve from 0.03130\n",
      "\n",
      "Epoch 6: val_loss did not improve from 0.03130\n",
      "\n",
      "Epoch 7: val_loss improved from 0.03130 to 0.02842, saving model to ./model\\07-0.0284.hdf5\n",
      "\n",
      "Epoch 8: val_loss did not improve from 0.02842\n",
      "\n",
      "Epoch 9: val_loss did not improve from 0.02842\n",
      "\n",
      "Epoch 10: val_loss improved from 0.02842 to 0.02841, saving model to ./model\\10-0.0284.hdf5\n",
      "\n",
      "Epoch 11: val_loss did not improve from 0.02841\n",
      "\n",
      "Epoch 12: val_loss improved from 0.02841 to 0.02769, saving model to ./model\\12-0.0277.hdf5\n",
      "\n",
      "Epoch 13: val_loss improved from 0.02769 to 0.02477, saving model to ./model\\13-0.0248.hdf5\n",
      "\n",
      "Epoch 14: val_loss did not improve from 0.02477\n",
      "\n",
      "Epoch 15: val_loss did not improve from 0.02477\n",
      "\n",
      "Epoch 16: val_loss did not improve from 0.02477\n",
      "\n",
      "Epoch 17: val_loss did not improve from 0.02477\n",
      "\n",
      "Epoch 18: val_loss did not improve from 0.02477\n",
      "\n",
      "Epoch 19: val_loss did not improve from 0.02477\n",
      "\n",
      "Epoch 20: val_loss did not improve from 0.02477\n",
      "\n",
      "Epoch 21: val_loss did not improve from 0.02477\n",
      "\n",
      "Epoch 22: val_loss did not improve from 0.02477\n",
      "\n",
      "Epoch 23: val_loss did not improve from 0.02477\n",
      "313/313 [==============================] - 8s 24ms/step - loss: 0.0265 - accuracy: 0.9939\n",
      "\n",
      " Test Accuracy: 0.9939\n"
     ]
    },
    {
     "data": {
      "image/png": "[encoded data removed]",
      "text/plain": [
       "<Figure size 432x288 with 1 Axes>"
      ]
     },
     "metadata": {
      "needs_background": "light"
     },
     "output_type": "display_data"
    }
   ],
   "source": [
    "# 모델의 실행\n",
    "history = model.fit(X_train, Y_train, validation_data=(X_test, Y_test), epochs=30, batch_size=200, verbose=0, callbacks=[early_stopping_callback,checkpointer])\n",
    "\n",
    "# 테스트 정확도 출력\n",
    "print(\"\\n Test Accuracy: %.4f\" % (model.evaluate(X_test, Y_test)[1]))\n",
    "\n",
    "# 테스트 셋의 오차\n",
    "y_vloss = history.history['val_loss']\n",
    "\n",
    "# 학습셋의 오차\n",
    "y_loss = history.history['loss']\n",
    "\n",
    "# 그래프로 표현\n",
    "x_len = np.arange(len(y_loss))\n",
    "plt.plot(x_len, y_vloss, marker='.', c=\"red\", label='Testset_loss')\n",
    "plt.plot(x_len, y_loss, marker='.', c=\"blue\", label='Trainset_loss')\n",
    "\n",
    "# 그래프에 그리드를 주고 레이블을 표시\n",
    "plt.legend(loc='upper right')\n",
    "plt.grid()\n",
    "plt.xlabel('epoch')\n",
    "plt.ylabel('loss')\n",
    "plt.show()"
   ]
  }
 ],
 "metadata": {
  "interpreter": {
   "hash": "ad407edf28d72043d30c8ba4bf11838d213aa5e1d5a5d9bd620e97e0d94da05a"
  },
  "kernelspec": {
   "display_name": "Python 3.8.10 64-bit",
   "language": "python",
   "name": "python3"
  },
  "language_info": {
   "codemirror_mode": {
    "name": "ipython",
    "version": 3
   },
   "file_extension": ".py",
   "mimetype": "text/x-python",
   "name": "python",
   "nbconvert_exporter": "python",
   "pygments_lexer": "ipython3",
   "version": "3.8.10"
  },
  "orig_nbformat": 4
 },
 "nbformat": 4,
 "nbformat_minor": 2
}
