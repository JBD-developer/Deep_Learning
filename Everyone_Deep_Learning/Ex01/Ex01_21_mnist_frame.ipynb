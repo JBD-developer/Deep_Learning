{
 "cells": [
  {
   "cell_type": "markdown",
   "metadata": {},
   "source": [
    "#### DeeepLearning Frame "
   ]
  },
  {
   "cell_type": "code",
   "execution_count": 1,
   "metadata": {},
   "outputs": [],
   "source": [
    "from keras.datasets import mnist\n",
    "from keras.utils import np_utils\n",
    "from keras.models import Sequential\n",
    "from keras.layers import Dense\n",
    "from keras.callbacks import ModelCheckpoint, EarlyStopping"
   ]
  },
  {
   "cell_type": "code",
   "execution_count": 15,
   "metadata": {},
   "outputs": [],
   "source": [
    "import numpy as np \n",
    "import os \n",
    "import matplotlib.pyplot as plt\n",
    "import tensorflow as tf "
   ]
  },
  {
   "cell_type": "code",
   "execution_count": 8,
   "metadata": {},
   "outputs": [],
   "source": [
    "seed = 0\n",
    "np.random.seed(seed)\n",
    "tf.random.set_seed(3)"
   ]
  },
  {
   "cell_type": "code",
   "execution_count": 17,
   "metadata": {},
   "outputs": [],
   "source": [
    "\n",
    "(X_train, Y_train), (X_test, Y_test) = mnist.load_data()\n",
    "X_train = X_train.reshape(X_train.shape[0], 784).astype('float32') / 255\n",
    "X_test = X_test.reshape(X_test.shape[0], 784).astype('float32') / 255\n"
   ]
  },
  {
   "cell_type": "code",
   "execution_count": 18,
   "metadata": {},
   "outputs": [],
   "source": [
    "Y_train = np_utils.to_categorical(Y_train, 10)\n",
    "Y_test = np_utils.to_categorical(Y_test, 10)"
   ]
  },
  {
   "cell_type": "code",
   "execution_count": 19,
   "metadata": {},
   "outputs": [],
   "source": [
    "model = Sequential()\n",
    "model.add(Dense(512, input_dim=784, activation=\"relu\"))\n",
    "model.add(Dense(10, activation=\"softmax\"))\n",
    "\n",
    "model.compile(loss=\"categorical_crossentropy\", optimizer=\"adam\", metrics=[\"accuracy\"])\n",
    "\n",
    "MODEL_DIR = './model/'\n",
    "if not os.path.exists(MODEL_DIR):\n",
    "    os.mkdir(MODEL_DIR)\n",
    "\n",
    "modelpath=\"./model/{epoch:02d}-{val_loss:.4f}.hdf5\"\n",
    "checkpointer = ModelCheckpoint(filepath=modelpath, monitor='val_loss', verbose=1, save_best_only=True)\n",
    "early_stopping_callback = EarlyStopping(monitor='val_loss', patience=10)\n",
    "\n"
   ]
  },
  {
   "cell_type": "code",
   "execution_count": 20,
   "metadata": {},
   "outputs": [
    {
     "name": "stdout",
     "output_type": "stream",
     "text": [
      "\n",
      "Epoch 1: val_loss improved from inf to 0.14919, saving model to ./model\\01-0.1492.hdf5\n",
      "\n",
      "Epoch 2: val_loss improved from 0.14919 to 0.10328, saving model to ./model\\02-0.1033.hdf5\n",
      "\n",
      "Epoch 3: val_loss improved from 0.10328 to 0.09059, saving model to ./model\\03-0.0906.hdf5\n",
      "\n",
      "Epoch 4: val_loss improved from 0.09059 to 0.07621, saving model to ./model\\04-0.0762.hdf5\n",
      "\n",
      "Epoch 5: val_loss improved from 0.07621 to 0.07487, saving model to ./model\\05-0.0749.hdf5\n",
      "\n",
      "Epoch 6: val_loss improved from 0.07487 to 0.06903, saving model to ./model\\06-0.0690.hdf5\n",
      "\n",
      "Epoch 7: val_loss improved from 0.06903 to 0.06641, saving model to ./model\\07-0.0664.hdf5\n",
      "\n",
      "Epoch 8: val_loss improved from 0.06641 to 0.06430, saving model to ./model\\08-0.0643.hdf5\n",
      "\n",
      "Epoch 9: val_loss improved from 0.06430 to 0.06428, saving model to ./model\\09-0.0643.hdf5\n",
      "\n",
      "Epoch 10: val_loss improved from 0.06428 to 0.06322, saving model to ./model\\10-0.0632.hdf5\n",
      "\n",
      "Epoch 11: val_loss improved from 0.06322 to 0.06309, saving model to ./model\\11-0.0631.hdf5\n",
      "\n",
      "Epoch 12: val_loss did not improve from 0.06309\n",
      "\n",
      "Epoch 13: val_loss improved from 0.06309 to 0.05959, saving model to ./model\\13-0.0596.hdf5\n",
      "\n",
      "Epoch 14: val_loss did not improve from 0.05959\n",
      "\n",
      "Epoch 15: val_loss did not improve from 0.05959\n",
      "\n",
      "Epoch 16: val_loss did not improve from 0.05959\n",
      "\n",
      "Epoch 17: val_loss did not improve from 0.05959\n",
      "\n",
      "Epoch 18: val_loss did not improve from 0.05959\n",
      "\n",
      "Epoch 19: val_loss did not improve from 0.05959\n",
      "\n",
      "Epoch 20: val_loss did not improve from 0.05959\n",
      "\n",
      "Epoch 21: val_loss did not improve from 0.05959\n",
      "\n",
      "Epoch 22: val_loss did not improve from 0.05959\n",
      "\n",
      "Epoch 23: val_loss did not improve from 0.05959\n",
      "313/313 [==============================] - 2s 5ms/step - loss: 0.0691 - accuracy: 0.9845\n",
      "\n",
      " Test Accuracy: 0.9845\n"
     ]
    },
    {
     "data": {
      "image/png": "[encoded data removed]",
      "text/plain": [
       "<Figure size 432x288 with 1 Axes>"
      ]
     },
     "metadata": {
      "needs_background": "light"
     },
     "output_type": "display_data"
    }
   ],
   "source": [
    "history = model.fit(X_train, Y_train, validation_data=(X_test, Y_test), epochs=30, batch_size=200, verbose=0, callbacks=[early_stopping_callback,checkpointer])\n",
    "\n",
    "print(\"\\n Test Accuracy: %.4f\" % (model.evaluate(X_test, Y_test)[1]))\n",
    "\n",
    "y_vloss = history.history['val_loss']\n",
    "\n",
    "y_loss = history.history['loss']\n",
    "\n",
    "x_len = np.arange(len(y_loss))\n",
    "plt.plot(x_len, y_vloss, marker='.', c=\"red\", label='Testset_loss')\n",
    "plt.plot(x_len, y_loss, marker='.', c=\"blue\", label='Trainset_loss')\n",
    "plt.legend(loc='upper right')\n",
    "plt.grid()\n",
    "plt.xlabel('epoch')\n",
    "plt.ylabel('loss')\n",
    "plt.show()"
   ]
  }
 ],
 "metadata": {
  "interpreter": {
   "hash": "ad407edf28d72043d30c8ba4bf11838d213aa5e1d5a5d9bd620e97e0d94da05a"
  },
  "kernelspec": {
   "display_name": "Python 3.8.10 64-bit",
   "language": "python",
   "name": "python3"
  },
  "language_info": {
   "codemirror_mode": {
    "name": "ipython",
    "version": 3
   },
   "file_extension": ".py",
   "mimetype": "text/x-python",
   "name": "python",
   "nbconvert_exporter": "python",
   "pygments_lexer": "ipython3",
   "version": "3.8.10"
  },
  "orig_nbformat": 4
 },
 "nbformat": 4,
 "nbformat_minor": 2
}
